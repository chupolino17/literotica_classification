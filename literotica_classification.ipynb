{
 "cells": [
  {
   "cell_type": "code",
   "execution_count": 1,
   "metadata": {},
   "outputs": [
    {
     "name": "stderr",
     "output_type": "stream",
     "text": [
      "/home/evgenii/anaconda3/lib/python3.8/site-packages/pandas/core/computation/expressions.py:20: UserWarning: Pandas requires version '2.7.3' or newer of 'numexpr' (version '2.7.1' currently installed).\n",
      "  from pandas.core.computation.check import NUMEXPR_INSTALLED\n"
     ]
    }
   ],
   "source": [
    "import numpy as np\n",
    "import pandas as pd\n",
    "\n",
    "from tqdm.notebook import tqdm\n",
    "from sklearn.model_selection import train_test_split\n",
    "import pathlib\n",
    "import os\n"
   ]
  },
  {
   "cell_type": "code",
   "execution_count": 2,
   "metadata": {},
   "outputs": [],
   "source": [
    "dataset_root_path = 'data/literature/literotica/'"
   ]
  },
  {
   "cell_type": "code",
   "execution_count": 3,
   "metadata": {},
   "outputs": [
    {
     "name": "stdout",
     "output_type": "stream",
     "text": [
      "{'gay': 0, 'bdsm': 1, 'straight': 2, 'anal': 3, 'group': 4, 'sci_fi': 5, 'mature': 6, 'non_human': 7, 'non_consent': 8, 'fetish': 9, 'lesbian': 10, 'romance': 11}\n",
      "{0: 'gay', 1: 'bdsm', 2: 'straight', 3: 'anal', 4: 'group', 5: 'sci_fi', 6: 'mature', 7: 'non_human', 8: 'non_consent', 9: 'fetish', 10: 'lesbian', 11: 'romance'}\n"
     ]
    }
   ],
   "source": [
    "labels = os.listdir(dataset_root_path)\n",
    "ids = range(len(labels))\n",
    "\n",
    "label2id = dict(zip(labels, ids))\n",
    "id2label = dict(zip(ids, labels))\n",
    "\n",
    "print(label2id)\n",
    "print(id2label)"
   ]
  },
  {
   "cell_type": "code",
   "execution_count": 23,
   "metadata": {},
   "outputs": [],
   "source": [
    "def get_all_stories_paths(dataset_root_path):\n",
    "    dataset_folder = pathlib.Path(dataset_root_path)\n",
    "    return dataset_folder.rglob(\"*.txt\")"
   ]
  },
  {
   "cell_type": "code",
   "execution_count": 24,
   "metadata": {},
   "outputs": [],
   "source": [
    "def create_json_dataset():\n",
    "    all_stories = []\n",
    "    \n",
    "    all_txt_paths = get_all_stories_paths(dataset_root_path)\n",
    "    \n",
    "    for story_path in tqdm(all_txt_paths):\n",
    "        with open(story_path, 'r') as file:\n",
    "            data = file.read()\n",
    "            length = len(data.split())\n",
    "            if length < 2500:\n",
    "                all_stories.append(\n",
    "                    {\n",
    "                        \"text\": data,\n",
    "                        \"label\": label2id[str(story_path).split('/')[3]]\n",
    "                    }\n",
    "                )\n",
    "    \n",
    "    df = pd.DataFrame.from_records(all_stories)\n",
    "    \n",
    "    df_train, df_test = train_test_split(df, test_size=0.20, random_state=42)\n",
    "    \n",
    "    df_train.to_json(f\"literotica-stories-train.jsonl\", orient=\"records\", lines=True)\n",
    "    df_test.to_json(f\"literotica-stories-test.jsonl\", orient=\"records\", lines=True)"
   ]
  },
  {
   "cell_type": "code",
   "execution_count": 25,
   "metadata": {},
   "outputs": [
    {
     "data": {
      "application/vnd.jupyter.widget-view+json": {
       "model_id": "97c78d6a3fd841af97bbd197dd7972f7",
       "version_major": 2,
       "version_minor": 0
      },
      "text/plain": [
       "0it [00:00, ?it/s]"
      ]
     },
     "metadata": {},
     "output_type": "display_data"
    }
   ],
   "source": [
    "create_json_dataset()"
   ]
  },
  {
   "cell_type": "code",
   "execution_count": 4,
   "metadata": {},
   "outputs": [
    {
     "data": {
      "text/plain": [
       "DatasetDict({\n",
       "    train: Dataset({\n",
       "        features: ['text', 'label'],\n",
       "        num_rows: 98552\n",
       "    })\n",
       "    test: Dataset({\n",
       "        features: ['text', 'label'],\n",
       "        num_rows: 24638\n",
       "    })\n",
       "})"
      ]
     },
     "execution_count": 4,
     "metadata": {},
     "output_type": "execute_result"
    }
   ],
   "source": [
    "from datasets import load_dataset\n",
    "\n",
    "\n",
    "data_files = {\n",
    "    \"train\": \"literotica-stories-train.jsonl\", \n",
    "    \"test\": \"literotica-stories-test.jsonl\"\n",
    "}\n",
    "\n",
    "stories_dataset = load_dataset(\"json\", data_files=data_files)\n",
    "stories_dataset"
   ]
  },
  {
   "cell_type": "markdown",
   "metadata": {},
   "source": [
    "### Prepare data"
   ]
  },
  {
   "cell_type": "code",
   "execution_count": 5,
   "metadata": {},
   "outputs": [],
   "source": [
    "from transformers import AutoTokenizer"
   ]
  },
  {
   "cell_type": "code",
   "execution_count": 6,
   "metadata": {},
   "outputs": [],
   "source": [
    "tokenizer = AutoTokenizer.from_pretrained(\"distilbert-base-uncased\")"
   ]
  },
  {
   "cell_type": "code",
   "execution_count": 7,
   "metadata": {},
   "outputs": [],
   "source": [
    "def preprocess_function(examples):\n",
    "    return tokenizer(examples[\"text\"], truncation=True)"
   ]
  },
  {
   "cell_type": "code",
   "execution_count": 8,
   "metadata": {},
   "outputs": [
    {
     "data": {
      "application/vnd.jupyter.widget-view+json": {
       "model_id": "3b312ab91cd24add994cb010bdda1e80",
       "version_major": 2,
       "version_minor": 0
      },
      "text/plain": [
       "Map:   0%|          | 0/24638 [00:00<?, ? examples/s]"
      ]
     },
     "metadata": {},
     "output_type": "display_data"
    }
   ],
   "source": [
    "tokenized_stories = stories_dataset.map(preprocess_function, batched=True)"
   ]
  },
  {
   "cell_type": "code",
   "execution_count": 9,
   "metadata": {},
   "outputs": [],
   "source": [
    "from transformers import DataCollatorWithPadding\n",
    "\n",
    "data_collator = DataCollatorWithPadding(tokenizer=tokenizer)"
   ]
  },
  {
   "cell_type": "markdown",
   "metadata": {},
   "source": [
    "### Load metric"
   ]
  },
  {
   "cell_type": "code",
   "execution_count": 61,
   "metadata": {},
   "outputs": [],
   "source": [
    "import evaluate\n",
    "\n",
    "precision_metric = evaluate.load(\"precision\", average=\"weighted\")\n",
    "recall_metric = evaluate.load(\"recall\", average=\"weighted\")\n",
    "accuracy_metric = evaluate.load(\"accuracy\")\n",
    "    \n",
    "\n",
    "\n",
    "# clf_metrics = evaluate.combine([\"accuracy\", \"precision\", \"recall\"])\n",
    "\n",
    "def compute_metrics(eval_pred):\n",
    "    predictions, labels = eval_pred\n",
    "    predictions = np.argmax(predictions, axis=1)\n",
    "    \n",
    "    results = {}\n",
    "    results.update(precision_metric.compute(predictions=predictions, references = labels, average=\"weighted\"))\n",
    "    results.update(recall_metric.compute(predictions=predictions, references = labels, average=\"weighted\"))\n",
    "    results.update(accuracy_metric.compute(predictions=predictions, references = labels))\n",
    "    return results"
   ]
  },
  {
   "cell_type": "markdown",
   "metadata": {},
   "source": [
    "### Train model"
   ]
  },
  {
   "cell_type": "code",
   "execution_count": 67,
   "metadata": {},
   "outputs": [
    {
     "name": "stderr",
     "output_type": "stream",
     "text": [
      "Some weights of DistilBertForSequenceClassification were not initialized from the model checkpoint at distilbert-base-uncased and are newly initialized: ['classifier.weight', 'pre_classifier.bias', 'classifier.bias', 'pre_classifier.weight']\n",
      "You should probably TRAIN this model on a down-stream task to be able to use it for predictions and inference.\n"
     ]
    }
   ],
   "source": [
    "from transformers import AutoModelForSequenceClassification, TrainingArguments, Trainer\n",
    "\n",
    "model = AutoModelForSequenceClassification.from_pretrained(\n",
    "    \"distilbert-base-uncased\", num_labels=12, id2label=id2label, label2id=label2id\n",
    ").to(\"cuda\")"
   ]
  },
  {
   "cell_type": "code",
   "execution_count": 68,
   "metadata": {},
   "outputs": [],
   "source": [
    "training_args = TrainingArguments(\n",
    "    output_dir=\"genre_classifier\",\n",
    "    learning_rate=2e-5,\n",
    "    per_device_train_batch_size=32,\n",
    "    per_device_eval_batch_size=32,\n",
    "    num_train_epochs=4,\n",
    "    weight_decay=0.01,\n",
    "    evaluation_strategy=\"epoch\",\n",
    "    save_strategy=\"epoch\",\n",
    "    load_best_model_at_end=True,\n",
    "    push_to_hub=False,\n",
    "    dataloader_num_workers=12,\n",
    ")\n",
    "\n",
    "trainer = Trainer(\n",
    "    model=model,\n",
    "    args=training_args,\n",
    "    train_dataset=tokenized_stories[\"train\"],\n",
    "    eval_dataset=tokenized_stories[\"test\"],\n",
    "    tokenizer=tokenizer,\n",
    "    data_collator=data_collator,\n",
    "    compute_metrics=compute_metrics,\n",
    ")"
   ]
  },
  {
   "cell_type": "code",
   "execution_count": 69,
   "metadata": {},
   "outputs": [
    {
     "data": {
      "text/html": [
       "\n",
       "    <div>\n",
       "      \n",
       "      <progress value='12320' max='12320' style='width:300px; height:20px; vertical-align: middle;'></progress>\n",
       "      [12320/12320 45:56, Epoch 4/4]\n",
       "    </div>\n",
       "    <table border=\"1\" class=\"dataframe\">\n",
       "  <thead>\n",
       " <tr style=\"text-align: left;\">\n",
       "      <th>Epoch</th>\n",
       "      <th>Training Loss</th>\n",
       "      <th>Validation Loss</th>\n",
       "      <th>Precision</th>\n",
       "      <th>Recall</th>\n",
       "      <th>Accuracy</th>\n",
       "    </tr>\n",
       "  </thead>\n",
       "  <tbody>\n",
       "    <tr>\n",
       "      <td>1</td>\n",
       "      <td>0.976200</td>\n",
       "      <td>0.956019</td>\n",
       "      <td>0.662885</td>\n",
       "      <td>0.662351</td>\n",
       "      <td>0.662351</td>\n",
       "    </tr>\n",
       "    <tr>\n",
       "      <td>2</td>\n",
       "      <td>0.858300</td>\n",
       "      <td>0.909576</td>\n",
       "      <td>0.679079</td>\n",
       "      <td>0.681914</td>\n",
       "      <td>0.681914</td>\n",
       "    </tr>\n",
       "    <tr>\n",
       "      <td>3</td>\n",
       "      <td>0.722000</td>\n",
       "      <td>0.919096</td>\n",
       "      <td>0.684295</td>\n",
       "      <td>0.683375</td>\n",
       "      <td>0.683375</td>\n",
       "    </tr>\n",
       "    <tr>\n",
       "      <td>4</td>\n",
       "      <td>0.641200</td>\n",
       "      <td>0.945616</td>\n",
       "      <td>0.678730</td>\n",
       "      <td>0.682604</td>\n",
       "      <td>0.682604</td>\n",
       "    </tr>\n",
       "  </tbody>\n",
       "</table><p>"
      ],
      "text/plain": [
       "<IPython.core.display.HTML object>"
      ]
     },
     "metadata": {},
     "output_type": "display_data"
    },
    {
     "data": {
      "text/plain": [
       "TrainOutput(global_step=12320, training_loss=0.8325064572420987, metrics={'train_runtime': 2756.7712, 'train_samples_per_second': 142.996, 'train_steps_per_second': 4.469, 'total_flos': 5.222902093302989e+16, 'train_loss': 0.8325064572420987, 'epoch': 4.0})"
      ]
     },
     "execution_count": 69,
     "metadata": {},
     "output_type": "execute_result"
    }
   ],
   "source": [
    "trainer.train()"
   ]
  },
  {
   "cell_type": "code",
   "execution_count": null,
   "metadata": {},
   "outputs": [],
   "source": [
    " "
   ]
  }
 ],
 "metadata": {
  "kernelspec": {
   "display_name": "Python 3",
   "language": "python",
   "name": "python3"
  },
  "language_info": {
   "codemirror_mode": {
    "name": "ipython",
    "version": 3
   },
   "file_extension": ".py",
   "mimetype": "text/x-python",
   "name": "python",
   "nbconvert_exporter": "python",
   "pygments_lexer": "ipython3",
   "version": "3.8.3"
  }
 },
 "nbformat": 4,
 "nbformat_minor": 2
}
