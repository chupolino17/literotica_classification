{
 "cells": [
  {
   "cell_type": "code",
   "execution_count": 1,
   "metadata": {},
   "outputs": [],
   "source": [
    "import re\n",
    "import time\n",
    "import requests\n",
    "from tqdm.notebook import tqdm\n",
    "from bs4 import BeautifulSoup"
   ]
  },
  {
   "cell_type": "code",
   "execution_count": 2,
   "metadata": {},
   "outputs": [],
   "source": [
    "from selenium.webdriver import Chrome\n",
    "from selenium.webdriver.chrome.options import Options\n",
    "opts = Options()\n",
    "opts.headless = True\n",
    "assert opts.headless  # Operating in headless mode\n",
    "browser = Chrome(options=opts)"
   ]
  },
  {
   "cell_type": "code",
   "execution_count": 3,
   "metadata": {},
   "outputs": [],
   "source": [
    "def get_page_source(url):\n",
    "    browser.get(url)\n",
    "    return browser.page_source"
   ]
  },
  {
   "cell_type": "code",
   "execution_count": 4,
   "metadata": {},
   "outputs": [],
   "source": [
    "def download_story_by_url(url, counter):\n",
    "    story_page_source = get_page_source(url)\n",
    "    story_page_soup = BeautifulSoup(story_page_source, \"html.parser\")\n",
    "    \n",
    "    story_title = f\"literotica_story_{counter}\"\n",
    "    \n",
    "    story = story_page_soup.find(\"div\", class_=\"aa_ht\")\n",
    "    paragraphs = story.find_all(\"p\")\n",
    "    \n",
    "    list_of_text = []\n",
    "    \n",
    "    for paragraph in paragraphs:\n",
    "        list_of_text.append(paragraph.contents)\n",
    "        \n",
    "    with open(f'data/literotica/anal/{story_title}.txt', 'w') as f:\n",
    "        for line in list_of_text:\n",
    "            f.write(f\"{line}\\n\")\n",
    "    \n",
    "    # dont be suspicious\n",
    "    time.sleep(0.1)"
   ]
  },
  {
   "cell_type": "code",
   "execution_count": 7,
   "metadata": {},
   "outputs": [
    {
     "data": {
      "application/vnd.jupyter.widget-view+json": {
       "model_id": "446e3d0146d14aa8a39c59020effc402",
       "version_major": 2,
       "version_minor": 0
      },
      "text/plain": [
       "  0%|          | 0/76 [00:00<?, ?it/s]"
      ]
     },
     "metadata": {},
     "output_type": "display_data"
    },
    {
     "name": "stdout",
     "output_type": "stream",
     "text": [
      "Error at story  //www.literotica.com/stories/showstory.php?id=181688\n"
     ]
    }
   ],
   "source": [
    "global_counter = 1\n",
    "\n",
    "for page_num in tqdm(range(1, 77)):\n",
    "    bdsm_list_url = f\"https://www.literotica.com/c/anal-sex-stories/{page_num}-page/\"\n",
    "    bdsm_pagelist_source = get_page_source(bdsm_list_url)\n",
    "    \n",
    "    soup = BeautifulSoup(bdsm_pagelist_source, \"html.parser\")\n",
    "    results = soup.find(id=\"content\")\n",
    "    \n",
    "    story_list = results.find(\"div\", class_=\"b-story-list\")\n",
    "    stories = story_list.find_all(\"div\", class_=\"b-sl-item-r w-34t\")\n",
    "    \n",
    "    for story in stories:\n",
    "        story_url = story.find(\"a\", class_=\"r-34i\")['href']\n",
    "        try:\n",
    "            download_story_by_url(story_url, global_counter)\n",
    "        except:\n",
    "            print(\"Error at story \", story_url)\n",
    "        global_counter += 1"
   ]
  },
  {
   "cell_type": "code",
   "execution_count": null,
   "metadata": {},
   "outputs": [],
   "source": []
  }
 ],
 "metadata": {
  "kernelspec": {
   "display_name": "Python 3",
   "language": "python",
   "name": "python3"
  },
  "language_info": {
   "codemirror_mode": {
    "name": "ipython",
    "version": 3
   },
   "file_extension": ".py",
   "mimetype": "text/x-python",
   "name": "python",
   "nbconvert_exporter": "python",
   "pygments_lexer": "ipython3",
   "version": "3.8.3"
  }
 },
 "nbformat": 4,
 "nbformat_minor": 4
}
